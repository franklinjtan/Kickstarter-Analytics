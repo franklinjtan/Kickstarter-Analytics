{
 "cells": [
  {
   "cell_type": "markdown",
   "metadata": {},
   "source": [
    "# Final Submission: ML Models and Statistical Methods\n",
    "* Kickstarter Team Members: Allison Bass, Dylan Juarez, Prakash Rao, Franklin Tan, and Alfonso Alday Vergara\n",
    "* Submission Date: August 9, 2023"
   ]
  },
  {
   "cell_type": "markdown",
   "metadata": {},
   "source": [
    "## Key Question: What are the factors driving project failure at Kickstarter?\n",
    "\n",
    "### Most of Kickstarter's projects are failing. Despite platform's growth, successful projects have remained stagnant.\n",
    "**After executing an in-depth analysis, we identified 4 key aspects that the organization can focus on to improve success rates and profits across the board:**\n",
    "1. Increasing the number of organic backers in the platform to increase the effect of social proof.\n",
    "2. Guide creators to find the optimal goal for their project.\n",
    "3. Implement marketing tactics to avoid seasonality effects.\n",
    "4. Encouraging backers to pledge more every time they back a project.<br>\n",
    "\n",
    "**The findings were obtained using the following machine learning models and statistical methods: Logistic Regression, Decision trees, LightGBM, ANOVA, and Tukey's HSD Test.**\n",
    "* Logistic Regression, Decision trees, LightGBM, ANOVA, and Tukey's HSD Test.\n",
    "\n",
    "**Please refer to the following presentation for an in-depth look into our business story and detailed client recommendations**<br>\n",
    "* [See PPT Link](https://cornellprod-my.sharepoint.com/:p:/r/personal/ab2597_cornell_edu/_layouts/15/Doc.aspx?sourcedoc=%7B6908AD95-FEAF-48B9-AD67-16CB7C6BE968%7D&file=Final%20Capstone%20Presentation.pptx&action=edit&mobileredirect=true)"
   ]
  },
  {
   "cell_type": "markdown",
   "metadata": {},
   "source": [
    "## Loading Libraries and Dataset"
   ]
  },
  {
   "cell_type": "code",
   "execution_count": 1,
   "metadata": {},
   "outputs": [],
   "source": [
    "import pandas as pd\n",
    "import matplotlib.pyplot as plt\n",
    "import seaborn as sns\n",
    "import numpy as np\n",
    "from sklearn.preprocessing import StandardScaler, OneHotEncoder\n",
    "from sklearn.impute import SimpleImputer\n",
    "from sklearn.model_selection import train_test_split, GridSearchCV\n",
    "from sklearn.linear_model import LogisticRegression\n",
    "from sklearn.metrics import accuracy_score, classification_report, confusion_matrix, roc_auc_score\n",
    "import statsmodels.api as sm\n",
    "from statsmodels.tsa.seasonal import seasonal_decompose\n",
    "from sklearn.model_selection import RandomizedSearchCV\n",
    "from sklearn.tree import DecisionTreeClassifier\n",
    "from sklearn.preprocessing import StandardScaler, OneHotEncoder\n",
    "from sklearn.preprocessing import LabelEncoder\n",
    "import lightgbm as lgb\n",
    "from statsmodels.stats.outliers_influence import variance_inflation_factor\n",
    "from sklearn.model_selection import StratifiedKFold\n",
    "\n",
    "\n",
    "%matplotlib inline"
   ]
  },
  {
   "cell_type": "code",
   "execution_count": 2,
   "metadata": {},
   "outputs": [],
   "source": [
    "# Load the CSV dataset\n",
    "df = pd.read_csv('../inputs/kickstarter_projects.csv')"
   ]
  },
  {
   "cell_type": "code",
   "execution_count": 3,
   "metadata": {},
   "outputs": [],
   "source": [
    "# Set the Display to Show all Columns\n",
    "pd.set_option('display.max_rows', None)\n",
    "pd.set_option('display.max_columns', None)"
   ]
  },
  {
   "cell_type": "code",
   "execution_count": 4,
   "metadata": {},
   "outputs": [
    {
     "name": "stdout",
     "output_type": "stream",
     "text": [
      "<class 'pandas.core.frame.DataFrame'>\n",
      "RangeIndex: 378661 entries, 0 to 378660\n",
      "Data columns (total 15 columns):\n",
      " #   Column            Non-Null Count   Dtype  \n",
      "---  ------            --------------   -----  \n",
      " 0   ID                378661 non-null  int64  \n",
      " 1   name              378657 non-null  object \n",
      " 2   category          378661 non-null  object \n",
      " 3   main_category     378661 non-null  object \n",
      " 4   currency          378661 non-null  object \n",
      " 5   deadline          378661 non-null  object \n",
      " 6   goal              378661 non-null  float64\n",
      " 7   launched          378661 non-null  object \n",
      " 8   pledged           378661 non-null  float64\n",
      " 9   state             378661 non-null  object \n",
      " 10  backers           378661 non-null  int64  \n",
      " 11  country           378661 non-null  object \n",
      " 12  usd pledged       374864 non-null  float64\n",
      " 13  usd_pledged_real  378661 non-null  float64\n",
      " 14  usd_goal_real     378661 non-null  float64\n",
      "dtypes: float64(5), int64(2), object(8)\n",
      "memory usage: 43.3+ MB\n"
     ]
    }
   ],
   "source": [
    "# Look at Original Dataframe\n",
    "df.info()"
   ]
  },
  {
   "cell_type": "code",
   "execution_count": 5,
   "metadata": {},
   "outputs": [
    {
     "data": {
      "text/html": [
       "<div>\n",
       "<style scoped>\n",
       "    .dataframe tbody tr th:only-of-type {\n",
       "        vertical-align: middle;\n",
       "    }\n",
       "\n",
       "    .dataframe tbody tr th {\n",
       "        vertical-align: top;\n",
       "    }\n",
       "\n",
       "    .dataframe thead th {\n",
       "        text-align: right;\n",
       "    }\n",
       "</style>\n",
       "<table border=\"1\" class=\"dataframe\">\n",
       "  <thead>\n",
       "    <tr style=\"text-align: right;\">\n",
       "      <th></th>\n",
       "      <th>ID</th>\n",
       "      <th>name</th>\n",
       "      <th>category</th>\n",
       "      <th>main_category</th>\n",
       "      <th>currency</th>\n",
       "      <th>deadline</th>\n",
       "      <th>goal</th>\n",
       "      <th>launched</th>\n",
       "      <th>pledged</th>\n",
       "      <th>state</th>\n",
       "      <th>backers</th>\n",
       "      <th>country</th>\n",
       "      <th>usd pledged</th>\n",
       "      <th>usd_pledged_real</th>\n",
       "      <th>usd_goal_real</th>\n",
       "    </tr>\n",
       "  </thead>\n",
       "  <tbody>\n",
       "    <tr>\n",
       "      <th>0</th>\n",
       "      <td>1000002330</td>\n",
       "      <td>The Songs of Adelaide &amp; Abullah</td>\n",
       "      <td>Poetry</td>\n",
       "      <td>Publishing</td>\n",
       "      <td>GBP</td>\n",
       "      <td>10/9/15</td>\n",
       "      <td>1000.0</td>\n",
       "      <td>8/11/15 12:12</td>\n",
       "      <td>0.0</td>\n",
       "      <td>failed</td>\n",
       "      <td>0</td>\n",
       "      <td>GB</td>\n",
       "      <td>0.0</td>\n",
       "      <td>0.0</td>\n",
       "      <td>1533.95</td>\n",
       "    </tr>\n",
       "    <tr>\n",
       "      <th>1</th>\n",
       "      <td>1000003930</td>\n",
       "      <td>Greeting From Earth: ZGAC Arts Capsule For ET</td>\n",
       "      <td>Narrative Film</td>\n",
       "      <td>Film &amp; Video</td>\n",
       "      <td>USD</td>\n",
       "      <td>11/1/17</td>\n",
       "      <td>30000.0</td>\n",
       "      <td>9/2/17 4:43</td>\n",
       "      <td>2421.0</td>\n",
       "      <td>failed</td>\n",
       "      <td>15</td>\n",
       "      <td>US</td>\n",
       "      <td>100.0</td>\n",
       "      <td>2421.0</td>\n",
       "      <td>30000.00</td>\n",
       "    </tr>\n",
       "    <tr>\n",
       "      <th>2</th>\n",
       "      <td>1000004038</td>\n",
       "      <td>Where is Hank?</td>\n",
       "      <td>Narrative Film</td>\n",
       "      <td>Film &amp; Video</td>\n",
       "      <td>USD</td>\n",
       "      <td>2/26/13</td>\n",
       "      <td>45000.0</td>\n",
       "      <td>1/12/13 0:20</td>\n",
       "      <td>220.0</td>\n",
       "      <td>failed</td>\n",
       "      <td>3</td>\n",
       "      <td>US</td>\n",
       "      <td>220.0</td>\n",
       "      <td>220.0</td>\n",
       "      <td>45000.00</td>\n",
       "    </tr>\n",
       "    <tr>\n",
       "      <th>3</th>\n",
       "      <td>1000007540</td>\n",
       "      <td>ToshiCapital Rekordz Needs Help to Complete Album</td>\n",
       "      <td>Music</td>\n",
       "      <td>Music</td>\n",
       "      <td>USD</td>\n",
       "      <td>4/16/12</td>\n",
       "      <td>5000.0</td>\n",
       "      <td>3/17/12 3:24</td>\n",
       "      <td>1.0</td>\n",
       "      <td>failed</td>\n",
       "      <td>1</td>\n",
       "      <td>US</td>\n",
       "      <td>1.0</td>\n",
       "      <td>1.0</td>\n",
       "      <td>5000.00</td>\n",
       "    </tr>\n",
       "    <tr>\n",
       "      <th>4</th>\n",
       "      <td>1000011046</td>\n",
       "      <td>Community Film Project: The Art of Neighborhoo...</td>\n",
       "      <td>Film &amp; Video</td>\n",
       "      <td>Film &amp; Video</td>\n",
       "      <td>USD</td>\n",
       "      <td>8/29/15</td>\n",
       "      <td>19500.0</td>\n",
       "      <td>7/4/15 8:35</td>\n",
       "      <td>1283.0</td>\n",
       "      <td>canceled</td>\n",
       "      <td>14</td>\n",
       "      <td>US</td>\n",
       "      <td>1283.0</td>\n",
       "      <td>1283.0</td>\n",
       "      <td>19500.00</td>\n",
       "    </tr>\n",
       "  </tbody>\n",
       "</table>\n",
       "</div>"
      ],
      "text/plain": [
       "           ID                                               name  \\\n",
       "0  1000002330                    The Songs of Adelaide & Abullah   \n",
       "1  1000003930      Greeting From Earth: ZGAC Arts Capsule For ET   \n",
       "2  1000004038                                     Where is Hank?   \n",
       "3  1000007540  ToshiCapital Rekordz Needs Help to Complete Album   \n",
       "4  1000011046  Community Film Project: The Art of Neighborhoo...   \n",
       "\n",
       "         category main_category currency deadline     goal       launched  \\\n",
       "0          Poetry    Publishing      GBP  10/9/15   1000.0  8/11/15 12:12   \n",
       "1  Narrative Film  Film & Video      USD  11/1/17  30000.0    9/2/17 4:43   \n",
       "2  Narrative Film  Film & Video      USD  2/26/13  45000.0   1/12/13 0:20   \n",
       "3           Music         Music      USD  4/16/12   5000.0   3/17/12 3:24   \n",
       "4    Film & Video  Film & Video      USD  8/29/15  19500.0    7/4/15 8:35   \n",
       "\n",
       "   pledged     state  backers country  usd pledged  usd_pledged_real  \\\n",
       "0      0.0    failed        0      GB          0.0               0.0   \n",
       "1   2421.0    failed       15      US        100.0            2421.0   \n",
       "2    220.0    failed        3      US        220.0             220.0   \n",
       "3      1.0    failed        1      US          1.0               1.0   \n",
       "4   1283.0  canceled       14      US       1283.0            1283.0   \n",
       "\n",
       "   usd_goal_real  \n",
       "0        1533.95  \n",
       "1       30000.00  \n",
       "2       45000.00  \n",
       "3        5000.00  \n",
       "4       19500.00  "
      ]
     },
     "execution_count": 5,
     "metadata": {},
     "output_type": "execute_result"
    }
   ],
   "source": [
    "# Copy Original Dataframe\n",
    "df2 = df.copy()\n",
    "df2.head()"
   ]
  },
  {
   "cell_type": "markdown",
   "metadata": {},
   "source": [
    "## Data Preprocessing and Feature Engineering"
   ]
  },
  {
   "cell_type": "code",
   "execution_count": 6,
   "metadata": {},
   "outputs": [
    {
     "name": "stdout",
     "output_type": "stream",
     "text": [
      "<class 'pandas.core.frame.DataFrame'>\n",
      "Int64Index: 372062 entries, 0 to 378660\n",
      "Data columns (total 15 columns):\n",
      " #   Column            Non-Null Count   Dtype  \n",
      "---  ------            --------------   -----  \n",
      " 0   ID                372062 non-null  int64  \n",
      " 1   name              372062 non-null  object \n",
      " 2   category          372062 non-null  object \n",
      " 3   main_category     372062 non-null  object \n",
      " 4   currency          372062 non-null  object \n",
      " 5   deadline          372062 non-null  object \n",
      " 6   goal              372062 non-null  float64\n",
      " 7   launched          372062 non-null  object \n",
      " 8   pledged           372062 non-null  float64\n",
      " 9   state             372062 non-null  object \n",
      " 10  backers           372062 non-null  int64  \n",
      " 11  country           372062 non-null  object \n",
      " 12  usd pledged       372062 non-null  float64\n",
      " 13  usd_pledged_real  372062 non-null  float64\n",
      " 14  usd_goal_real     372062 non-null  float64\n",
      "dtypes: float64(5), int64(2), object(8)\n",
      "memory usage: 45.4+ MB\n"
     ]
    }
   ],
   "source": [
    "# Drop all rows that contain any null values\n",
    "df2 = df2.dropna()\n",
    "\n",
    "# Drop live projects\n",
    "df2 = df2.query('state != \"live\"')\n",
    "df2.info()\n",
    "\n",
    "# Remove corrupted data: when state = \"successful\" and backers = 0\n",
    "df2 = df2[~((df2['state'] == 'successful') & (df2['backers'] == 0))]\n",
    "\n",
    "# Create Dependent Variable State\n",
    "df2['target'] = df2['state'].apply(lambda x: 0 if x == 'successful' else 1)\n",
    "\n",
    "# Feature Extraction\n",
    "df2['launched'] = pd.to_datetime(df2['launched'])\n",
    "df2['deadline'] = pd.to_datetime(df2['deadline'])\n",
    "df2['duration'] = (df2['deadline'] - df2['launched']).dt.days\n",
    "\n",
    "# Define the corrupted years to be removed\n",
    "years_to_remove = [2009, 2018, 2070]\n",
    "\n",
    "# Filter the rows to be removed based on 'launched' and 'deadline' years\n",
    "rows_to_remove = df2[df2['launched'].dt.year.isin(years_to_remove) | df2['deadline'].dt.year.isin(years_to_remove)]\n",
    "\n",
    "# Remove the rows from the original DataFrame\n",
    "df2 = df2.drop(rows_to_remove.index)\n",
    "\n",
    "# Optionally, reset the index of the cleaned DataFrame\n",
    "df2.reset_index(drop=True, inplace=True)\n",
    "\n",
    "# Extract year-month and convert to string\n",
    "df2['launched_year_month'] = df2['launched'].dt.to_period('M').astype(str)\n",
    "df2['deadline_year_month'] = df2['deadline'].dt.to_period('M').astype(str)\n",
    "\n",
    "# Convert Datetime columns to categorical columns\n",
    "date_time_cols = ['launched_year_month', 'deadline_year_month']\n",
    "df2[date_time_cols] = df2[date_time_cols].astype('category')\n",
    "\n",
    "# Define target and features\n",
    "X = df2.drop(['target', \n",
    "                'main_category',\n",
    "                'country',\n",
    "                'category',\n",
    "                'ID', \n",
    "                'name',\n",
    "                'currency',\n",
    "                'deadline',\n",
    "                'goal',\n",
    "                'launched',\n",
    "                'pledged',\n",
    "                'state',\n",
    "                'usd pledged',\n",
    "                'launched_year_month', \n",
    "                'deadline_year_month'\n",
    "                ], axis=1)\n",
    "\n",
    "y = df2['target']\n",
    "\n",
    "# Separate the numerical columns to be standardized\n",
    "num_cols = ['usd_goal_real', 'usd_pledged_real', 'backers', 'duration']\n",
    "\n",
    "# Standardize the numerical columns\n",
    "scaler = StandardScaler()\n",
    "X[num_cols] = scaler.fit_transform(X[num_cols])\n",
    "\n",
    "# Apply log1p transformation to each numerical feature\n",
    "for col in num_cols:\n",
    "    X[col] = X[col].apply(lambda x: np.log1p(x) if x >= -1 else x)\n",
    "\n",
    "# Create an imputer object that will impute 'NaN' values with the mean\n",
    "imputer = SimpleImputer(missing_values=np.nan, strategy='mean')\n",
    "\n",
    "# Apply the imputer to your dataframe\n",
    "X = pd.DataFrame(imputer.fit_transform(X), columns=X.columns)"
   ]
  },
  {
   "cell_type": "markdown",
   "metadata": {},
   "source": [
    "**We did the above data preprocessing and feature engineering steps for the following reasons:**<br>\n",
    "1. Since we only had a small number of null values in our Kickstarter dataset, we decided to drop them. \n",
    "2. We dropped corrupted data.\n",
    "3. We created a binary dependent variable, \"target,\" with the value 1 for project failure and 0 for project success. We made this decision because of Kickstarter's all-or-nothing business model (i.e., If a Kickstarter project does not reach its funding goal by the end of the campaign, no money changes hands and Kickstarter does not earn any revenue) and our team's interest in understanding the factors driving Kickstarter project failure.\n",
    "4. We converted the \"launch\" and \"deadline\" Kickstarter fields to datetimes in order to create a \"duration\" independent variable. \n",
    "5. We dropped independent variables we decided not to include in our machine learning models. \n",
    "6. We normalized and log transformed our numerical independent variables to increase our gradient descent optimization speed (for logistic regression) and fix distributional skews. \n",
    "7. We created an imputer object just in case we had any NaN stragglers."
   ]
  },
  {
   "cell_type": "markdown",
   "metadata": {},
   "source": [
    "## Logistic Regression"
   ]
  },
  {
   "cell_type": "code",
   "execution_count": 7,
   "metadata": {},
   "outputs": [
    {
     "name": "stdout",
     "output_type": "stream",
     "text": [
      "Accuracy: 0.9175864738822767\n",
      "\n",
      "\n",
      "Classification Report:\n",
      "              precision    recall  f1-score   support\n",
      "\n",
      "           0       0.89      0.87      0.88     40012\n",
      "           1       0.93      0.94      0.94     71062\n",
      "\n",
      "    accuracy                           0.92    111074\n",
      "   macro avg       0.91      0.91      0.91    111074\n",
      "weighted avg       0.92      0.92      0.92    111074\n",
      "\n"
     ]
    }
   ],
   "source": [
    "## Logistic Regression\n",
    "\n",
    "# Split the data\n",
    "X_train, X_test, y_train, y_test = train_test_split(X, y, test_size=0.3, random_state=100)\n",
    "\n",
    "# Reset indices\n",
    "X_train = X_train.reset_index(drop=True)\n",
    "y_train = y_train.reset_index(drop=True)\n",
    "\n",
    "# Create a Logistic Regression model with class_weight='balanced'\n",
    "logreg_model = LogisticRegression(random_state=100, class_weight='balanced')\n",
    "\n",
    "# Fit the model on the training data\n",
    "logreg_model.fit(X_train, y_train)\n",
    "\n",
    "# Make predictions on the test data\n",
    "y_pred = logreg_model.predict(X_test)\n",
    "\n",
    "# Evaluate the model\n",
    "accuracy = accuracy_score(y_test, y_pred)\n",
    "print(\"Accuracy:\", accuracy)\n",
    "print(\"\\n\")\n",
    "\n",
    "print(\"Classification Report:\")\n",
    "print(classification_report(y_test, y_pred))"
   ]
  },
  {
   "cell_type": "markdown",
   "metadata": {},
   "source": [
    "**Based on the results from the logistic regression model, we can interpret the following:**\n",
    "\n",
    "* Accuracy: The overall accuracy of the model is approximately 92%, which means that it correctly predicts the target class (project failure) for about 92% of the total instances in the dataset.\n",
    "\n",
    "* Precision: For class 0 (project success), the precision is 0.89, indicating that 89% of the instances predicted as class 0 are actually true positives. For class 1 (project failure), the precision is 0.93, indicating that 93% of the instances predicted as class 1 are true positives.\n",
    "\n",
    "* Recall (Sensitivity or True Positive Rate): For class 0 (project success), the recall is 0.88, meaning that the model correctly identifies 88% of the instances of class 0. For class 1 (project failure), the recall is 0.94, meaning that the model correctly identifies 94% of the instances of class 1.\n",
    "\n",
    "* F1-Score: For class 0 (project success), the F1-score is 0.88, and for class 1 (project failure), the F1-score is 0.94.\n",
    "\n",
    "* Support: For class 0, there are 40,0012 instances, and for class 1, there are 71,062 instances.\n",
    "\n",
    "* Macro Avg: The macro average precision, recall, and F1-score are all around 0.91.\n",
    "\n",
    "* Weighted Avg: The weighted average calculates the average precision, recall, and F1-score, taking into account the number of instances in each class. The weighted average precision, recall, and F1-score are all approximately 0.92.\n",
    "\n",
    "In summary, the logistic regression model is performing well with high accuracy and reasonable precision, recall, and F1-scores for both classes. The model is better at predicting class 1 (higher recall and F1-score) than class 0 (i.e., project failure rather than project success)."
   ]
  },
  {
   "cell_type": "code",
   "execution_count": 8,
   "metadata": {},
   "outputs": [
    {
     "name": "stdout",
     "output_type": "stream",
     "text": [
      "Optimization terminated successfully.\n",
      "         Current function value: 0.199122\n",
      "         Iterations 13\n",
      "Coefficients:\n",
      "const                23.115501\n",
      "backers             -18.375154\n",
      "usd_pledged_real    -98.903547\n",
      "usd_goal_real       862.885398\n",
      "duration              0.232033\n",
      "dtype: float64\n"
     ]
    },
    {
     "data": {
      "image/png": "[encoded data removed]",
      "text/plain": [
       "<Figure size 1000x600 with 1 Axes>"
      ]
     },
     "metadata": {},
     "output_type": "display_data"
    }
   ],
   "source": [
    "# Extract coefficients and p-values using statsmodels\n",
    "X_train_sm = sm.add_constant(X_train)\n",
    "logit_model = sm.Logit(y_train, X_train_sm)\n",
    "result = logit_model.fit()\n",
    "\n",
    "# Coefficients\n",
    "coefficients = result.params\n",
    "print(\"Coefficients:\")\n",
    "print(coefficients)\n",
    "\n",
    "# Sample data for demonstration purposes\n",
    "df4_columns = ['backers', 'usd_pledged_real', 'usd_goal_real', 'duration']\n",
    "importances = [-18.375154, -98.903547, 862.885398, 0.232033]\n",
    "\n",
    "# Create a bar plot\n",
    "plt.figure(figsize=(10, 6))\n",
    "plt.bar(df4_columns, importances, color='#09CE78')\n",
    "plt.xlabel('Features', labelpad=10, fontsize=14, fontfamily='arial')\n",
    "plt.ylabel('Importance', labelpad=10, fontsize=14, fontfamily='arial')\n",
    "plt.title('Logistic Regression Feature Importances', pad=20, fontsize=14, fontfamily='arial')\n",
    "#plt.xticks(rotation=45)\n",
    "\n",
    "# Remove the top and right spines of the plot\n",
    "plt.gca().spines['top'].set_visible(False)\n",
    "plt.gca().spines['right'].set_visible(False)\n",
    "\n",
    "# Set font size and font family globally for all elements in the plot\n",
    "plt.rcParams['font.size'] = 14\n",
    "plt.rcParams['font.family'] = 'arial'\n",
    "\n",
    "plt.show()\n"
   ]
  },
  {
   "cell_type": "markdown",
   "metadata": {},
   "source": [
    "**Analysis**<br>\n",
    "1. const (Constant): The intercept term in the logistic regression model.\n",
    "\n",
    "2. backers: For every one-unit increase in the \"backers\" variable, the log-odds of the event (e.g., project failure) occurring decreases by approximately 18.34 units, assuming all other variables remain constant. This suggests that an increase in the number of backers is associated with a decrease in the odds of the event happening.\n",
    "\n",
    "3. usd_pledged_real: For every one-unit increase in the \"usd_pledged_real\" variable, the log-odds of the event occurring (e.g., project failure) decreases by approximately 18.38 units, holding all other variables constant. This indicates that a higher amount pledged in USD is associated with lower odds of the event happening.\n",
    "\n",
    "4. usd_goal_real: For every one-unit increase in the \"usd_goal_real\" variable, the log-odds of the event occurring (e.g., project failure) decreases by approximately 868.89 units, assuming all other variables remain constant. This suggests that a higher funding goal in USD is associated with higher odds of the event happening.\n",
    "\n",
    "5. duration: For every one-unit increase in the \"duration\" variable, the log-odds of the event occurring (e.g., project failure) increases by approximately 0.23 units, while holding all other variables constant. This indicates a slight increase in the odds of the event happening with a longer duration."
   ]
  },
  {
   "cell_type": "code",
   "execution_count": 9,
   "metadata": {},
   "outputs": [
    {
     "name": "stdout",
     "output_type": "stream",
     "text": [
      "P-values:\n",
      "const                0.000000e+00\n",
      "backers              0.000000e+00\n",
      "usd_pledged_real     0.000000e+00\n",
      "usd_goal_real        0.000000e+00\n",
      "duration            2.258383e-133\n",
      "dtype: float64\n"
     ]
    }
   ],
   "source": [
    "# P-values\n",
    "p_values = result.pvalues\n",
    "print(\"P-values:\")\n",
    "print(p_values)"
   ]
  },
  {
   "cell_type": "markdown",
   "metadata": {},
   "source": [
    "**Analysis**<br> In summary, all the independent variables appear to be statistically significant in predicting project failure in this logistic regression model."
   ]
  },
  {
   "cell_type": "markdown",
   "metadata": {},
   "source": [
    "## Decision Tree"
   ]
  },
  {
   "cell_type": "code",
   "execution_count": 10,
   "metadata": {},
   "outputs": [
    {
     "name": "stdout",
     "output_type": "stream",
     "text": [
      "Best hyperparameters: {'ccp_alpha': 0.0, 'max_depth': 3, 'min_samples_leaf': 5, 'min_samples_split': 5}\n",
      "Classification Report:\n",
      "              precision    recall  f1-score   support\n",
      "\n",
      "           0       0.81      0.96      0.88     40012\n",
      "           1       0.98      0.87      0.92     71062\n",
      "\n",
      "    accuracy                           0.90    111074\n",
      "   macro avg       0.89      0.92      0.90    111074\n",
      "weighted avg       0.92      0.90      0.91    111074\n",
      "\n"
     ]
    }
   ],
   "source": [
    "## Decision Tree\n",
    "\n",
    "# Split the data\n",
    "X_train, X_test, y_train, y_test = train_test_split(X, y, test_size=0.3, random_state=100)\n",
    "\n",
    "# Define the hyperparameter grid for grid search\n",
    "param_grid = {\n",
    "    'max_depth': [1,2,3],             # Test different maximum depths\n",
    "    'min_samples_split': [5,10,20,30],\n",
    "    'min_samples_leaf': [5,10,20,30],\n",
    "    'ccp_alpha': [0.0, 0.01, 0.05, 0.1, 0.2, 0.3, 0.4, 0.5]\n",
    "}\n",
    "\n",
    "# Create the Decision Tree model\n",
    "dt_model = DecisionTreeClassifier(random_state=100, class_weight='balanced')\n",
    "\n",
    "# Create the GridSearchCV object\n",
    "grid_search = GridSearchCV(dt_model, param_grid, cv=5, scoring='accuracy')\n",
    "\n",
    "# Fit the GridSearchCV on the training data\n",
    "grid_search.fit(X_train, y_train)\n",
    "\n",
    "# Get the best parameters from the grid search\n",
    "best_params = grid_search.best_params_\n",
    "print(\"Best hyperparameters:\", best_params)\n",
    "\n",
    "# Create the final pruned Decision Tree model with the best hyperparameters\n",
    "final_dt_model = DecisionTreeClassifier(\n",
    "    random_state=120,\n",
    "    class_weight='balanced',\n",
    "    max_depth=best_params['max_depth'],\n",
    "    min_samples_split=best_params['min_samples_split'],\n",
    "    min_samples_leaf=best_params['min_samples_leaf'],\n",
    "    ccp_alpha = best_params['ccp_alpha']\n",
    ")\n",
    "\n",
    "# Fit the final model on the training data\n",
    "final_dt_model.fit(X_train, y_train)\n",
    "\n",
    "# Make predictions on the test data using the final pruned model\n",
    "y_pred_dt = final_dt_model.predict(X_test)\n",
    "\n",
    "# Evaluate the final model\n",
    "print(\"Classification Report:\")\n",
    "print(classification_report(y_test, y_pred_dt))"
   ]
  },
  {
   "cell_type": "markdown",
   "metadata": {},
   "source": [
    "**The hyperparameters are the settings that were found to give the best performance for the Decision Tree model during the hyperparameter tuning process. The values given are:**\n",
    "ccp_alpha: 0.0, max_depth: 3, min_samples_leaf: 5, and min_samples_split: 5\n",
    "\n",
    "**Based on the results from Decision Tree Model, we can interpret the following:**\n",
    "\n",
    "* Accuracy: The overall accuracy of the model is approximately 90%, which means that it correctly predicts the target class (project failure) for about 90% of the total instances in the dataset.\n",
    "\n",
    "* Precision: For class 0 (the first class), the precision is 0.81, indicating that 81% of the instances predicted as class 0 (project sucesses) are actually true positives. For class 1 (the second class), the precision is 0.98, indicating that 98% of the instances predicted as class 1 (project failures) are true positives.\n",
    "\n",
    "* Recall (Sensitivity or True Positive Rate): For class 0, the recall is 0.96, meaning that the model correctly identifies 96% of the instances of class 0 (project success). For class 1, the recall is 0.87, meaning that the model correctly identifies 87% of the instances of class 1 (project failure).\n",
    "\n",
    "* F1-Score: For class 0, the F1-score is 0.88 (project success), and for class 1, the F1-score is 0.92 (project failure).\n",
    "\n",
    "* Support: For class 0, there are 40,012 instances, and for class 1, there are 71,062 instances.\n",
    "\n",
    "* Macro Avg: The macro average precision, recall, and F1-score are 0.89, 0.92, 0.90, respectively. \n",
    "\n",
    "* Weighted Avg: The weighted average precision, recall, and F1-score are 0.92, 0.90, 0.91, respectively.\n",
    "\n",
    "Overall, the model seems to perform reasonably well with an accuracy of 90%. It has better precision for class 1 (project failure) but better recall for class 0 (project success). The hyperparameters used for the model were found through tuning and appear to provide a good balance between complexity and performance."
   ]
  },
  {
   "cell_type": "code",
   "execution_count": 11,
   "metadata": {},
   "outputs": [
    {
     "name": "stdout",
     "output_type": "stream",
     "text": [
      "Feature importances:\n",
      "backers: 0.6608096169732758\n",
      "usd_pledged_real: 0.24309355230020108\n",
      "usd_goal_real: 0.09609683072652318\n",
      "duration: 0.0\n"
     ]
    },
    {
     "data": {
      "text/plain": [
       "Text(0.5, 1.0, 'Decision Tree Feature Importances')"
      ]
     },
     "execution_count": 11,
     "metadata": {},
     "output_type": "execute_result"
    },
    {
     "data": {
      "image/png": "[encoded data removed]",
      "text/plain": [
       "<Figure size 1000x600 with 1 Axes>"
      ]
     },
     "metadata": {},
     "output_type": "display_data"
    }
   ],
   "source": [
    "# Get feature importances from the final model\n",
    "importances = final_dt_model.feature_importances_\n",
    "print(\"Feature importances:\")\n",
    "for col, imp in zip(X_train.columns, importances):\n",
    "    print(f\"{col}: {imp}\")\n",
    "    \n",
    "# Sample data for demonstration purposes\n",
    "df5_columns = ['backers', 'usd_pledged_real', 'usd_goal_real', 'duration']\n",
    "importances = [0.66, 0.24, 0.09, 0.0]\n",
    "\n",
    "# Create a bar plot\n",
    "plt.figure(figsize=(10, 6))\n",
    "plt.bar(df5_columns, importances, color='#09CE78')\n",
    "plt.xlabel('Features', labelpad=10, fontsize=14, fontfamily='arial')\n",
    "plt.ylabel('Importance', labelpad=10, fontsize=14, fontfamily='arial')\n",
    "plt.title('Decision Tree Feature Importances', pad=20, fontsize=14, fontfamily='arial')"
   ]
  },
  {
   "cell_type": "markdown",
   "metadata": {},
   "source": [
    "**Analysis**\n",
    "1. backers: 63.33% of the information in the tree comes from the backers variable, making it the most important feature. \n",
    "2. usd_pledged_real: 24.26% of the information in the tree comes from the usd_pledged_real, making it the second most important feature. \n",
    "3. usd_goal_real: 9.41% of the information in the tree comes from usd_goal_real, which is a significantly lower feature importance score compared to backers and usd_pledged_real. \n",
    "4. Duration: 0% of the information in the tree comes from duration, meaning that it doesn't contribute anything to predicting Kickstarter project failure."
   ]
  },
  {
   "cell_type": "markdown",
   "metadata": {},
   "source": [
    "## LightGBM (Light Gradient Boosting Machine)"
   ]
  },
  {
   "cell_type": "code",
   "execution_count": null,
   "metadata": {
    "scrolled": true
   },
   "outputs": [
    {
     "name": "stdout",
     "output_type": "stream",
     "text": [
      "Fitting 12 folds for each of 10 candidates, totalling 120 fits\n"
     ]
    }
   ],
   "source": [
    "## LightGBM\n",
    "\n",
    "# Split the Data\n",
    "X_train, X_test, y_train, y_test = train_test_split(X, y, test_size=0.3, random_state=120)\n",
    "\n",
    "# Reset Indices\n",
    "X_train = X_train.reset_index(drop=True)\n",
    "y_train = y_train.reset_index(drop=True)\n",
    "\n",
    "# Set the Hyperparameters for LightGBM\n",
    "param_dist = {\n",
    "    'learning_rate': [0.0005, 0.001],  \n",
    "    'n_estimators': [1500, 2000, 2500],  \n",
    "    'num_leaves': [5, 10, 15],  \n",
    "    'min_child_samples': [60, 70, 80],  \n",
    "    'max_depth': [3, 4],  \n",
    "    'colsample_bytree': [0.4, 0.5],  \n",
    "    'subsample': [0.6, 0.7],  \n",
    "    'reg_alpha': [1.5, 2.0, 2.5],  \n",
    "    'reg_lambda': [1.5, 2.0, 2.5]  \n",
    "}\n",
    "\n",
    "# Create a LightGBM Classifier with class weights\n",
    "lgbm = lgb.LGBMClassifier(random_state=80, class_weight='balanced')\n",
    "\n",
    "# Create the RandomizedSearchCV Object with more CV folds\n",
    "rand_search = RandomizedSearchCV(lgbm, param_distributions=param_dist, \n",
    "                                 cv=StratifiedKFold(n_splits=12, shuffle=True, random_state=100),  \n",
    "                                 scoring='accuracy', n_iter=10, n_jobs=1, verbose=1)\n",
    "\n",
    "# Fit the RandomizedSearchCV on the Training Data\n",
    "rand_search.fit(X_train, y_train)\n",
    "\n",
    "# Get the Best Parameters from the Grid Search\n",
    "best_params2 = rand_search.best_params_\n",
    "print(\"Best hyperparameters:\", best_params2)\n",
    "\n",
    "# Create the Final LightGBM model with the Best Hyperparameters and Class Weights\n",
    "final_lgbm_model = lgb.LGBMClassifier(\n",
    "    random_state=120,\n",
    "    class_weight='balanced',\n",
    "    learning_rate=best_params2['learning_rate'],\n",
    "    n_estimators=best_params2['n_estimators'],\n",
    "    num_leaves=best_params2['num_leaves'],\n",
    "    min_child_samples=best_params2['min_child_samples'],\n",
    "    max_depth=best_params2['max_depth'],\n",
    "    colsample_bytree=best_params2['colsample_bytree'],\n",
    "    subsample=best_params2['subsample'],\n",
    "    reg_alpha=best_params2['reg_alpha'],\n",
    "    reg_lambda=best_params2['reg_lambda']\n",
    ")\n",
    "\n",
    "# Fit the Final Model on the Training Data\n",
    "final_lgbm_model.fit(X_train, y_train)\n",
    "\n",
    "# Make Predictions on the Test Data Using the Final Model\n",
    "y_pred_lgbm = final_lgbm_model.predict(X_test)\n",
    "\n",
    "# Evaluate the Final Model\n",
    "print(\"Classification Report:\")\n",
    "print(classification_report(y_test, y_pred_lgbm))\n",
    "\n",
    "# Feature Importance\n",
    "print(\"Feature importances:\")\n",
    "for name, importance in zip(X.columns, final_lgbm_model.feature_importances_):\n",
    "    print(name, \"=\", importance)\n"
   ]
  },
  {
   "cell_type": "markdown",
   "metadata": {},
   "source": [
    "**The hyperparameters are the settings that were found to give the best performance for the LightGBM model during the hyperparameter tuning process. The values given are:**\n",
    "subsample: 0.6, reg_lambda: 2.0, reg_alpha: 2.0, num_leaves: 10, n_estimators: 2500, min_child_samples: 70, max_depth: 4, learning_rate: 0.001, and colsample_bytree: 0.4.\n",
    "\n",
    "**Based on the results from LightGBM Model, we can interpret the following:**\n",
    "\n",
    "* Accuracy: The overall accuracy of the model is approximately 94%, which means that it correctly predicts the target class (project failure) for about 94% of the total instances in the dataset.\n",
    "\n",
    "* Precision: For class 0 (the first class), the precision is 0.87, indicating that 87% of the instances predicted as class 0 (project sucesses) are actually true positives. For class 1 (the second class), the precision is 0.99, indicating that 99% of the instances predicted as class 1 (project failures) are true positives.\n",
    "\n",
    "* Recall (Sensitivity or True Positive Rate): For class 0, the recall is 0.98, meaning that the model correctly identifies 98% of the instances of class 0 (project success). For class 1, the recall is 0.91, meaning that the model correctly identifies 91% of the instances of class 1 (project failure).\n",
    "\n",
    "* F1-Score: For class 0, the F1-score is 0.92 (project success), and for class 1, the F1-score is 0.95 (project failure).\n",
    "\n",
    "* Support: For class 0, there are 40,003 instances, and for class 1, there are 71,071 instances.\n",
    "\n",
    "* Macro Avg: The macro average precision, recall, and F1-score are 0.93, 0.95, 0.93, respectively. \n",
    "\n",
    "* Weighted Avg: The weighted average precision, recall, and F1-score are 0.94, 0.94, 0.94, respectively.\n",
    "\n",
    "Overall, the model seems to perform really well with an accuracy of 94%. It has better precision for class 1 (project failure) but better recall for class 0 (project success). The hyperparameters used for the model were found through tuning and appear to provide a good balance between complexity and performance.\n",
    "\n",
    "**Feature Importance Analysis**\n",
    "*Based on the LightGBM model, usd_goal_real and backers are the most important features followed by usd_pledged_real and duration (i.e., they have the highest feature importance [most Critical to the models predictions])."
   ]
  },
  {
   "cell_type": "code",
   "execution_count": null,
   "metadata": {},
   "outputs": [],
   "source": [
    "# Feature Importances\n",
    "features = ['backers', 'usd_pledged_real', 'usd_goal_real', 'duration']\n",
    "importances = [7505, 3990, 8373, 2632]\n",
    "\n",
    "# Normalize the importances \n",
    "normalized_importances = [i / sum(importances) for i in importances]\n",
    "\n",
    "# Create a Bar Plot\n",
    "plt.figure(figsize=(10, 6))\n",
    "plt.bar(features, normalized_importances, color='#09CE78') # use importances instead of normalized_importances if you want raw values\n",
    "plt.xlabel('Features', labelpad=10, fontsize=14, fontfamily='arial')\n",
    "plt.ylabel('Importance', labelpad=10, fontsize=14, fontfamily='arial')\n",
    "plt.title('Feature Importances', pad=20, fontsize=14, fontfamily='arial')\n",
    "plt.show()"
   ]
  },
  {
   "cell_type": "markdown",
   "metadata": {},
   "source": [
    "## Seasonal Decomposition of Time Series Data"
   ]
  },
  {
   "cell_type": "code",
   "execution_count": null,
   "metadata": {},
   "outputs": [],
   "source": [
    "## Step 1: Visual Inspection\n",
    "\n",
    "# Create Copy of the Dataframe\n",
    "df_seas = df.copy()\n",
    "\n",
    "# Convert 'launched' to Datetime\n",
    "df_seas['launched'] = pd.to_datetime(df_seas['launched'])\n",
    "df_seas['year'] = df_seas['launched'].dt.year\n",
    "df_seas['month'] = df_seas['launched'].dt.month\n",
    "\n",
    "# Exclude data from years 2009, 2018, and 2070\n",
    "df_seas = df_seas[~df_seas['year'].isin([2009, 2018, 2070])]\n",
    "\n",
    "# Group by Year, Month and get Mean\n",
    "grouped = df_seas.groupby(['year', 'month']).mean().reset_index()\n",
    "\n",
    "years = grouped['year'].unique()\n",
    "\n",
    "\n"
   ]
  },
  {
   "cell_type": "code",
   "execution_count": null,
   "metadata": {},
   "outputs": [],
   "source": [
    "## Backers\n",
    "\n",
    "# Calculate the number of subplots required\n",
    "num_subplots = (len(years) + 1) // 2\n",
    "\n",
    "# Plot Backers for Each Year\n",
    "for i in range(0, len(years), 2):  \n",
    "    fig, axs = plt.subplots(1, 2, figsize=(16, 6))\n",
    "    \n",
    "    yearly_data_1 = grouped[grouped['year'] == years[i]]\n",
    "    axs[0].bar(yearly_data_1['month'], yearly_data_1['backers'], color='#09CE78')\n",
    "    axs[0].set_xlabel('Month', fontsize=14, fontfamily='arial', labelpad=10)\n",
    "    axs[0].set_ylabel('Backers', fontsize=14, fontfamily='arial', labelpad=10)\n",
    "    axs[0].set_title(f'Backers by Month for {years[i]}', fontsize=14, fontfamily='arial', pad=10)\n",
    "\n",
    "    if i + 1 < len(years):\n",
    "        yearly_data_2 = grouped[grouped['year'] == years[i+1]]\n",
    "        axs[1].bar(yearly_data_2['month'], yearly_data_2['backers'], color='#09CE78')\n",
    "        axs[1].set_xlabel('Month', fontsize=14, fontfamily='arial', labelpad=10)\n",
    "        axs[1].set_ylabel('Backers', fontsize=14, fontfamily='arial', labelpad=10)\n",
    "        axs[1].set_title(f'Backers by Month for {years[i+1]}', fontsize=14, fontfamily='arial', pad=10)\n",
    "    else:\n",
    "        fig.delaxes(axs[1])\n",
    "    \n",
    "    plt.tight_layout()\n",
    "    plt.show()"
   ]
  },
  {
   "cell_type": "code",
   "execution_count": null,
   "metadata": {},
   "outputs": [],
   "source": [
    "## USD Pledged Real\n",
    "    \n",
    "# Calculate the Number of Subplots Required\n",
    "num_subplots = (len(years) + 1) // 2\n",
    "\n",
    "# Plot Usd_Pledged_Real for Each Year\n",
    "for i in range(0, len(years), 2):  \n",
    "    fig, axs = plt.subplots(1, 2, figsize=(16, 6))\n",
    "    \n",
    "   \n",
    "    yearly_data_1 = grouped[grouped['year'] == years[i]]\n",
    "    axs[0].bar(yearly_data_1['month'], yearly_data_1['usd_pledged_real'], color='#09CE78')\n",
    "    axs[0].set_xlabel('Month', fontsize=14, fontfamily='arial', labelpad=10)\n",
    "    axs[0].set_ylabel('USD Pledged Real', fontsize=14, fontfamily='arial', labelpad=10)\n",
    "    axs[0].set_title(f'USD Pledged Real by Month for {years[i]}', fontsize=14, fontfamily='arial', pad=10)\n",
    "\n",
    "   \n",
    "    if i + 1 < len(years):\n",
    "        yearly_data_2 = grouped[grouped['year'] == years[i+1]]\n",
    "        axs[1].bar(yearly_data_2['month'], yearly_data_2['usd_pledged_real'], color='#09CE78')\n",
    "        axs[1].set_xlabel('Month', fontsize=14, fontfamily='arial', labelpad=10)\n",
    "        axs[1].set_ylabel('USD Pledged Real', fontsize=14, fontfamily='arial', labelpad=10)\n",
    "        axs[1].set_title(f'USD Pledged Real by Month for {years[i+1]}', fontsize=14, fontfamily='arial', pad=10)\n",
    "    else:\n",
    "        fig.delaxes(axs[1])\n",
    "    \n",
    "    plt.tight_layout()\n",
    "    plt.show()"
   ]
  },
  {
   "cell_type": "markdown",
   "metadata": {},
   "source": [
    "**Analysis**\n",
    "1. Both the Backers and USD Pledged Real columns display signs of seasonality that varies every couple of years in a predictable manner.\n",
    "2. As expected, the recurring pattern in the time series data for the Backers and USD Pledged Real variables appear to be highly correlated; the more Average Backers per month, the greater the Average Pledged Real amount. \n",
    "3. For the last three years we have data, 2015, 2016, and 2017, May, July, September, October, and November have the largest average number of monthly Backers and USD Pledged Real. \n"
   ]
  },
  {
   "cell_type": "code",
   "execution_count": null,
   "metadata": {},
   "outputs": [],
   "source": [
    "## Seasonal Decomposition for Backers\n",
    "\n",
    "# Create a Copy\n",
    "df_seas2 = df.copy()\n",
    "\n",
    "# Convert 'launched' to Datetime\n",
    "df_seas2['launched'] = pd.to_datetime(df_seas2['launched'])\n",
    "df_seas2['year'] = df_seas2['launched'].dt.year\n",
    "df_seas2['month'] = df_seas2['launched'].dt.month\n",
    "\n",
    "# Exclude data from years 2009, 2018, and 2070\n",
    "df_seas2 = df_seas2[~df_seas2['year'].isin([2009, 2018, 2070])]\n",
    "\n",
    "# Convert Dataframe to a Time Series with a DateTime Index\n",
    "df_seas2['launched'] = pd.to_datetime(df_seas2['launched'])\n",
    "df_seas2.set_index('launched', inplace=True)\n",
    "\n",
    "# Resample to Monthly Data\n",
    "monthly_backers = df_seas2['backers'].resample('M').mean().fillna(method='ffill')\n",
    "monthly_usd = df_seas2['usd_pledged_real'].resample('M').mean().fillna(method='ffill')\n",
    "\n",
    "# Decompose Backers\n",
    "decomposition_backers = seasonal_decompose(monthly_backers, model='additive')\n",
    "\n",
    "fig = decomposition_backers.plot()\n",
    "fig.set_size_inches(15, 10)\n",
    "for ax in fig.axes:\n",
    "    ax.set_ylabel(ax.get_ylabel(), fontsize=14)\n",
    "    ax.tick_params(axis='y')\n",
    "    ax.tick_params(axis='x')\n",
    "plt.suptitle('Seasonal Decomposition for Backers', fontsize=16, y=1.05)\n",
    "plt.tight_layout()\n",
    "plt.show()"
   ]
  },
  {
   "cell_type": "code",
   "execution_count": null,
   "metadata": {},
   "outputs": [],
   "source": [
    "## Seasonal Decomposition for 'usd_pledged_real'\n",
    "\n",
    "# Resample 'usd_pledged_real' to Monthly Data\n",
    "monthly_usd = df_seas2['usd_pledged_real'].resample('M').mean().fillna(method='ffill')\n",
    "\n",
    "# Decompose usd_pledged_real\n",
    "decomposition_usd = seasonal_decompose(monthly_usd, model='additive')\n",
    "\n",
    "fig = decomposition_usd.plot()\n",
    "fig.set_size_inches(15, 10)\n",
    "for ax in fig.axes:\n",
    "    ax.set_ylabel(ax.get_ylabel(), fontsize=14)\n",
    "    ax.tick_params(axis='y')\n",
    "plt.suptitle('Seasonal Decomposition for USD Pledged Real', fontsize=16, y=1.05)\n",
    "plt.tight_layout()\n",
    "plt.show()"
   ]
  },
  {
   "cell_type": "markdown",
   "metadata": {},
   "source": [
    "**Analysis**\n",
    "1. Based on the seasonal decomposition of Backers and USD_Pledged Real, both variables show a clear seasonal component with consistent peaks and troughs that repeat in short-term cycles. Seasonality is definately at play. "
   ]
  }
 ],
 "metadata": {
  "kernelspec": {
   "display_name": "Python 3",
   "language": "python",
   "name": "python3"
  },
  "language_info": {
   "codemirror_mode": {
    "name": "ipython",
    "version": 3
   },
   "file_extension": ".py",
   "mimetype": "text/x-python",
   "name": "python",
   "nbconvert_exporter": "python",
   "pygments_lexer": "ipython3",
   "version": "3.8.3"
  }
 },
 "nbformat": 4,
 "nbformat_minor": 4
}
