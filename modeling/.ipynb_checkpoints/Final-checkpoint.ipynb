{
 "cells": [
  {
   "cell_type": "markdown",
   "metadata": {},
   "source": [
    "# Final Submission: ML Models and Statistical Methods\n",
    "* Kickstarter Team Members: Allison Bass, Dylan Juarez, Prakash Rao, Franklin Tan, and Alfonso Alday Vergara\n",
    "* Submission Date: August 9, 2023"
   ]
  },
  {
   "cell_type": "markdown",
   "metadata": {},
   "source": [
    "## Key Question: What are the factors driving project failure at Kickstarter?\n",
    "\n",
    "### Most of Kickstarter's projects are failing. Despite platform's growth, successful projects have remained stagnant.\n",
    "**After executing an in-depth analysis, we identified 4 key aspects that the organization can focus on to improve success rates and profits across the board:**\n",
    "1. Increasing the number of organic backers in the platform to increase the effect of social proof.\n",
    "2. Guide creators to find the optimal goal for their project.\n",
    "3. Implement marketing tactics to avoid seasonality effects.\n",
    "4. Encouraging backers to pledge more every time they back a project.<br>\n",
    "\n",
    "**The findings were obtained using the following machine learning models and statistical methods: Logistic Regression, Decision trees, LightGBM, ANOVA, and Tukey's HSD Test.**\n",
    "* Logistic Regression, Decision trees, LightGBM, ANOVA, and Tukey's HSD Test.\n",
    "\n",
    "**Please refer to the following presentation for an in-depth look into our business story and detailed client recommendations**<br>\n",
    "* [See PPT Link](https://cornellprod-my.sharepoint.com/:p:/r/personal/ab2597_cornell_edu/_layouts/15/Doc.aspx?sourcedoc=%7B6908AD95-FEAF-48B9-AD67-16CB7C6BE968%7D&file=Final%20Capstone%20Presentation.pptx&action=edit&mobileredirect=true)"
   ]
  },
  {
   "cell_type": "markdown",
   "metadata": {},
   "source": [
    "## Loading Libraries and Dataset"
   ]
  },
  {
   "cell_type": "code",
   "execution_count": 60,
   "metadata": {},
   "outputs": [],
   "source": [
    "import pandas as pd\n",
    "import matplotlib.pyplot as plt\n",
    "import seaborn as sns\n",
    "import numpy as np\n",
    "\n",
    "from sklearn.preprocessing import StandardScaler, OneHotEncoder\n",
    "from sklearn.impute import SimpleImputer\n",
    "from sklearn.model_selection import train_test_split, GridSearchCV\n",
    "from sklearn.linear_model import LogisticRegression\n",
    "from sklearn.metrics import accuracy_score, classification_report, confusion_matrix, roc_auc_score\n",
    "import statsmodels.api as sm\n",
    "\n",
    "from sklearn.tree import DecisionTreeClassifier\n",
    "from sklearn.preprocessing import StandardScaler, OneHotEncoder\n",
    "\n",
    "from sklearn.preprocessing import LabelEncoder\n",
    "import lightgbm as lgb\n",
    "from statsmodels.stats.outliers_influence import variance_inflation_factor\n",
    "\n",
    "%matplotlib inline"
   ]
  },
  {
   "cell_type": "code",
   "execution_count": 36,
   "metadata": {},
   "outputs": [],
   "source": [
    "# Load the CSV dataset\n",
    "df = pd.read_csv('../inputs/kickstarter_projects.csv')"
   ]
  },
  {
   "cell_type": "code",
   "execution_count": 37,
   "metadata": {},
   "outputs": [],
   "source": [
    "# Set the Display to Show all Columns\n",
    "pd.set_option('display.max_rows', None)\n",
    "pd.set_option('display.max_columns', None)"
   ]
  },
  {
   "cell_type": "code",
   "execution_count": 38,
   "metadata": {},
   "outputs": [
    {
     "name": "stdout",
     "output_type": "stream",
     "text": [
      "<class 'pandas.core.frame.DataFrame'>\n",
      "RangeIndex: 378661 entries, 0 to 378660\n",
      "Data columns (total 15 columns):\n",
      " #   Column            Non-Null Count   Dtype  \n",
      "---  ------            --------------   -----  \n",
      " 0   ID                378661 non-null  int64  \n",
      " 1   name              378657 non-null  object \n",
      " 2   category          378661 non-null  object \n",
      " 3   main_category     378661 non-null  object \n",
      " 4   currency          378661 non-null  object \n",
      " 5   deadline          378661 non-null  object \n",
      " 6   goal              378661 non-null  float64\n",
      " 7   launched          378661 non-null  object \n",
      " 8   pledged           378661 non-null  float64\n",
      " 9   state             378661 non-null  object \n",
      " 10  backers           378661 non-null  int64  \n",
      " 11  country           378661 non-null  object \n",
      " 12  usd pledged       374864 non-null  float64\n",
      " 13  usd_pledged_real  378661 non-null  float64\n",
      " 14  usd_goal_real     378661 non-null  float64\n",
      "dtypes: float64(5), int64(2), object(8)\n",
      "memory usage: 43.3+ MB\n"
     ]
    }
   ],
   "source": [
    "# Look at Original Dataframe\n",
    "df.info()"
   ]
  },
  {
   "cell_type": "code",
   "execution_count": 39,
   "metadata": {},
   "outputs": [
    {
     "data": {
      "text/html": [
       "<div>\n",
       "<style scoped>\n",
       "    .dataframe tbody tr th:only-of-type {\n",
       "        vertical-align: middle;\n",
       "    }\n",
       "\n",
       "    .dataframe tbody tr th {\n",
       "        vertical-align: top;\n",
       "    }\n",
       "\n",
       "    .dataframe thead th {\n",
       "        text-align: right;\n",
       "    }\n",
       "</style>\n",
       "<table border=\"1\" class=\"dataframe\">\n",
       "  <thead>\n",
       "    <tr style=\"text-align: right;\">\n",
       "      <th></th>\n",
       "      <th>ID</th>\n",
       "      <th>name</th>\n",
       "      <th>category</th>\n",
       "      <th>main_category</th>\n",
       "      <th>currency</th>\n",
       "      <th>deadline</th>\n",
       "      <th>goal</th>\n",
       "      <th>launched</th>\n",
       "      <th>pledged</th>\n",
       "      <th>state</th>\n",
       "      <th>backers</th>\n",
       "      <th>country</th>\n",
       "      <th>usd pledged</th>\n",
       "      <th>usd_pledged_real</th>\n",
       "      <th>usd_goal_real</th>\n",
       "    </tr>\n",
       "  </thead>\n",
       "  <tbody>\n",
       "    <tr>\n",
       "      <th>0</th>\n",
       "      <td>1000002330</td>\n",
       "      <td>The Songs of Adelaide &amp; Abullah</td>\n",
       "      <td>Poetry</td>\n",
       "      <td>Publishing</td>\n",
       "      <td>GBP</td>\n",
       "      <td>10/9/15</td>\n",
       "      <td>1000.0</td>\n",
       "      <td>8/11/15 12:12</td>\n",
       "      <td>0.0</td>\n",
       "      <td>failed</td>\n",
       "      <td>0</td>\n",
       "      <td>GB</td>\n",
       "      <td>0.0</td>\n",
       "      <td>0.0</td>\n",
       "      <td>1533.95</td>\n",
       "    </tr>\n",
       "    <tr>\n",
       "      <th>1</th>\n",
       "      <td>1000003930</td>\n",
       "      <td>Greeting From Earth: ZGAC Arts Capsule For ET</td>\n",
       "      <td>Narrative Film</td>\n",
       "      <td>Film &amp; Video</td>\n",
       "      <td>USD</td>\n",
       "      <td>11/1/17</td>\n",
       "      <td>30000.0</td>\n",
       "      <td>9/2/17 4:43</td>\n",
       "      <td>2421.0</td>\n",
       "      <td>failed</td>\n",
       "      <td>15</td>\n",
       "      <td>US</td>\n",
       "      <td>100.0</td>\n",
       "      <td>2421.0</td>\n",
       "      <td>30000.00</td>\n",
       "    </tr>\n",
       "    <tr>\n",
       "      <th>2</th>\n",
       "      <td>1000004038</td>\n",
       "      <td>Where is Hank?</td>\n",
       "      <td>Narrative Film</td>\n",
       "      <td>Film &amp; Video</td>\n",
       "      <td>USD</td>\n",
       "      <td>2/26/13</td>\n",
       "      <td>45000.0</td>\n",
       "      <td>1/12/13 0:20</td>\n",
       "      <td>220.0</td>\n",
       "      <td>failed</td>\n",
       "      <td>3</td>\n",
       "      <td>US</td>\n",
       "      <td>220.0</td>\n",
       "      <td>220.0</td>\n",
       "      <td>45000.00</td>\n",
       "    </tr>\n",
       "    <tr>\n",
       "      <th>3</th>\n",
       "      <td>1000007540</td>\n",
       "      <td>ToshiCapital Rekordz Needs Help to Complete Album</td>\n",
       "      <td>Music</td>\n",
       "      <td>Music</td>\n",
       "      <td>USD</td>\n",
       "      <td>4/16/12</td>\n",
       "      <td>5000.0</td>\n",
       "      <td>3/17/12 3:24</td>\n",
       "      <td>1.0</td>\n",
       "      <td>failed</td>\n",
       "      <td>1</td>\n",
       "      <td>US</td>\n",
       "      <td>1.0</td>\n",
       "      <td>1.0</td>\n",
       "      <td>5000.00</td>\n",
       "    </tr>\n",
       "    <tr>\n",
       "      <th>4</th>\n",
       "      <td>1000011046</td>\n",
       "      <td>Community Film Project: The Art of Neighborhoo...</td>\n",
       "      <td>Film &amp; Video</td>\n",
       "      <td>Film &amp; Video</td>\n",
       "      <td>USD</td>\n",
       "      <td>8/29/15</td>\n",
       "      <td>19500.0</td>\n",
       "      <td>7/4/15 8:35</td>\n",
       "      <td>1283.0</td>\n",
       "      <td>canceled</td>\n",
       "      <td>14</td>\n",
       "      <td>US</td>\n",
       "      <td>1283.0</td>\n",
       "      <td>1283.0</td>\n",
       "      <td>19500.00</td>\n",
       "    </tr>\n",
       "  </tbody>\n",
       "</table>\n",
       "</div>"
      ],
      "text/plain": [
       "           ID                                               name  \\\n",
       "0  1000002330                    The Songs of Adelaide & Abullah   \n",
       "1  1000003930      Greeting From Earth: ZGAC Arts Capsule For ET   \n",
       "2  1000004038                                     Where is Hank?   \n",
       "3  1000007540  ToshiCapital Rekordz Needs Help to Complete Album   \n",
       "4  1000011046  Community Film Project: The Art of Neighborhoo...   \n",
       "\n",
       "         category main_category currency deadline     goal       launched  \\\n",
       "0          Poetry    Publishing      GBP  10/9/15   1000.0  8/11/15 12:12   \n",
       "1  Narrative Film  Film & Video      USD  11/1/17  30000.0    9/2/17 4:43   \n",
       "2  Narrative Film  Film & Video      USD  2/26/13  45000.0   1/12/13 0:20   \n",
       "3           Music         Music      USD  4/16/12   5000.0   3/17/12 3:24   \n",
       "4    Film & Video  Film & Video      USD  8/29/15  19500.0    7/4/15 8:35   \n",
       "\n",
       "   pledged     state  backers country  usd pledged  usd_pledged_real  \\\n",
       "0      0.0    failed        0      GB          0.0               0.0   \n",
       "1   2421.0    failed       15      US        100.0            2421.0   \n",
       "2    220.0    failed        3      US        220.0             220.0   \n",
       "3      1.0    failed        1      US          1.0               1.0   \n",
       "4   1283.0  canceled       14      US       1283.0            1283.0   \n",
       "\n",
       "   usd_goal_real  \n",
       "0        1533.95  \n",
       "1       30000.00  \n",
       "2       45000.00  \n",
       "3        5000.00  \n",
       "4       19500.00  "
      ]
     },
     "execution_count": 39,
     "metadata": {},
     "output_type": "execute_result"
    }
   ],
   "source": [
    "# Copy Original Dataframe\n",
    "df2 = df.copy()\n",
    "df2.head()"
   ]
  },
  {
   "cell_type": "markdown",
   "metadata": {},
   "source": [
    "## Data Preprocessing and Feature Engineering"
   ]
  },
  {
   "cell_type": "code",
   "execution_count": 40,
   "metadata": {},
   "outputs": [],
   "source": [
    "# Drop all rows that contain any null values\n",
    "df2 = df2.dropna()\n",
    "\n",
    "# Create Dependent Variable State\n",
    "df2['target'] = df['state'].apply(lambda x: 1 if x == 'successful' else 0)\n",
    "\n",
    "# Feature Extraction\n",
    "df2['launched'] = pd.to_datetime(df2['launched'])\n",
    "df2['deadline'] = pd.to_datetime(df2['deadline'])\n",
    "df2['duration'] = (df2['deadline'] - df2['launched']).dt.days\n",
    "\n",
    "# Extract year-month and convert to string\n",
    "df2['launched_year_month'] = df2['launched'].dt.to_period('M').astype(str)\n",
    "df2['deadline_year_month'] = df2['deadline'].dt.to_period('M').astype(str)\n",
    "\n",
    "# Convert Datetime columns to categorical columns\n",
    "date_time_cols = ['launched_year_month', 'deadline_year_month']\n",
    "df2[date_time_cols] = df2[date_time_cols].astype('category')\n",
    "\n",
    "# Define target and features\n",
    "X = df2.drop(['target', \n",
    "                'main_category',\n",
    "                'country',\n",
    "                'category',\n",
    "                'ID', \n",
    "                'name',\n",
    "                'currency',\n",
    "                'deadline',\n",
    "                'goal',\n",
    "                'launched',\n",
    "                'pledged',\n",
    "                'state',\n",
    "                'usd pledged',\n",
    "                'launched_year_month', \n",
    "                'deadline_year_month'\n",
    "                ], axis=1)\n",
    "\n",
    "y = df2['target']\n",
    "\n",
    "# Separate the numerical columns to be standardized\n",
    "num_cols = ['usd_goal_real', 'usd_pledged_real', 'backers', 'duration']\n",
    "\n",
    "# Standardize the numerical columns\n",
    "scaler = StandardScaler()\n",
    "X[num_cols] = scaler.fit_transform(X[num_cols])\n",
    "\n",
    "# Apply log1p transformation to each numerical feature\n",
    "for col in num_cols:\n",
    "    X[col] = X[col].apply(lambda x: np.log1p(x) if x >= -1 else x)\n",
    "\n",
    "# Create an imputer object that will impute 'NaN' values with the mean\n",
    "imputer = SimpleImputer(missing_values=np.nan, strategy='mean')\n",
    "\n",
    "# Apply the imputer to your dataframe\n",
    "X = pd.DataFrame(imputer.fit_transform(X), columns=X.columns)"
   ]
  },
  {
   "cell_type": "markdown",
   "metadata": {},
   "source": [
    "**We did the above data preprocessing and feature engineering steps for the following reasons:**<br>\n",
    "1. Since we only had a small number of null values in our Kickstarter dataset, we decided to drop them. \n",
    "2. We created a binary dependent variable, \"target,\" with the value 1 for project failure and 0 for project success. We made this decision because of Kickstarter's all-or-nothing business model (i.e., If a Kickstarter project does not reach its funding goal by the end of the campaign, no money changes hands and Kickstarter does not earn any revenue) and our team's interest in understanding the factors driving Kickstarter project failure.\n",
    "3. We converted the \"launch\" and \"deadline\" Kickstarter fields to datetimes in order to create a \"duration\" independent variable. \n",
    "4. We dropped independent variables we decided not to include in our machine learning models. \n",
    "5. We normalized and log transformed our numerical independent variables to increase our gradient descent optimization speed (for logistic regression) and fix distributional skews. \n",
    "6. We created an imputer object just in case we had any NaN stragglers."
   ]
  },
  {
   "cell_type": "markdown",
   "metadata": {},
   "source": [
    "## Logistic Regression"
   ]
  },
  {
   "cell_type": "code",
   "execution_count": 41,
   "metadata": {},
   "outputs": [
    {
     "name": "stdout",
     "output_type": "stream",
     "text": [
      "Accuracy: 0.9156396165679631\n",
      "\n",
      "\n",
      "Classification Report:\n",
      "              precision    recall  f1-score   support\n",
      "\n",
      "           0       0.92      0.95      0.94     72134\n",
      "           1       0.90      0.86      0.88     40324\n",
      "\n",
      "    accuracy                           0.92    112458\n",
      "   macro avg       0.91      0.90      0.91    112458\n",
      "weighted avg       0.92      0.92      0.92    112458\n",
      "\n"
     ]
    }
   ],
   "source": [
    "# Split the data\n",
    "X_train, X_test, y_train, y_test = train_test_split(X, y, test_size=0.3, random_state=100)\n",
    "\n",
    "# Reset indices\n",
    "X_train = X_train.reset_index(drop=True)\n",
    "y_train = y_train.reset_index(drop=True)\n",
    "\n",
    "# Create a Logistic Regression model with class_weight='balanced'\n",
    "logreg_model = LogisticRegression(random_state=100, class_weight='balanced')\n",
    "\n",
    "# Fit the model on the training data\n",
    "logreg_model.fit(X_train, y_train)\n",
    "\n",
    "# Make predictions on the test data\n",
    "y_pred = logreg_model.predict(X_test)\n",
    "\n",
    "# Evaluate the model\n",
    "accuracy = accuracy_score(y_test, y_pred)\n",
    "print(\"Accuracy:\", accuracy)\n",
    "print(\"\\n\")\n",
    "\n",
    "print(\"Classification Report:\")\n",
    "print(classification_report(y_test, y_pred))"
   ]
  },
  {
   "cell_type": "markdown",
   "metadata": {},
   "source": [
    "**Based on the results from the logistic regression model, we can interpret the following:**\n",
    "\n",
    "* Accuracy: The overall accuracy of the model is approximately 92%, which means that it correctly predicts the target class for about 92% of the total instances in the dataset.\n",
    "\n",
    "* Precision: For class 0 (the first class), the precision is 0.92, indicating that 92% of the instances predicted as class 0 are actually true positives. For class 1 (the second class), the precision is 0.90, indicating that 90% of the instances predicted as class 1 are true positives.\n",
    "\n",
    "* Recall (Sensitivity or True Positive Rate): For class 0, the recall is 0.95, meaning that the model correctly identifies 95% of the instances of class 0. For class 1, the recall is 0.86, meaning that the model correctly identifies 86% of the instances of class 1.\n",
    "\n",
    "* F1-Score: For class 0, the F1-score is 0.94, and for class 1, the F1-score is 0.88.\n",
    "\n",
    "* Support: For class 0, there are 72,134 instances, and for class 1, there are 40,324 instances.\n",
    "\n",
    "* Macro Avg: The macro average precision, recall, and F1-score are all around 0.91.\n",
    "\n",
    "* Weighted Avg: The weighted average calculates the average precision, recall, and F1-score, taking into account the number of instances in each class. The weighted average precision, recall, and F1-score are all approximately 0.92.\n",
    "\n",
    "In summary, the logistic regression model is performing well with high accuracy and reasonable precision, recall, and F1-scores for both classes. The model is better at predicting class 1 (higher recall and F1-score) than class 0."
   ]
  },
  {
   "cell_type": "code",
   "execution_count": 42,
   "metadata": {},
   "outputs": [
    {
     "name": "stderr",
     "output_type": "stream",
     "text": [
      "C:\\ProgramData\\Anaconda3\\lib\\site-packages\\statsmodels\\discrete\\discrete_model.py:1747: RuntimeWarning: overflow encountered in exp\n",
      "  return 1/(1+np.exp(-X))\n"
     ]
    },
    {
     "name": "stdout",
     "output_type": "stream",
     "text": [
      "Optimization terminated successfully.\n",
      "         Current function value: 0.221956\n",
      "         Iterations 13\n",
      "Coefficients:\n",
      "const               -20.356107\n",
      "backers              17.097824\n",
      "usd_pledged_real     83.008365\n",
      "usd_goal_real      -755.784847\n",
      "duration             -0.007271\n",
      "dtype: float64\n"
     ]
    },
    {
     "data": {
      "image/png": "[encoded data removed]",
      "text/plain": [
       "<Figure size 720x432 with 1 Axes>"
      ]
     },
     "metadata": {
      "needs_background": "light"
     },
     "output_type": "display_data"
    }
   ],
   "source": [
    "# Extract coefficients and p-values using statsmodels\n",
    "X_train_sm = sm.add_constant(X_train)\n",
    "logit_model = sm.Logit(y_train, X_train_sm)\n",
    "result = logit_model.fit()\n",
    "\n",
    "# Coefficients\n",
    "coefficients = result.params\n",
    "print(\"Coefficients:\")\n",
    "print(coefficients)\n",
    "\n",
    "# Sample data for demonstration purposes\n",
    "df3_columns = ['backers', 'usd_pledged_real', 'usd_goal_real', 'duration']\n",
    "importances = [17.097, 83.00, -755.784, -0.007]\n",
    "\n",
    "# Create a bar plot\n",
    "plt.figure(figsize=(10, 6))\n",
    "plt.bar(df3_columns, importances, color='skyblue')\n",
    "plt.xlabel('Features')\n",
    "plt.ylabel('Importance')\n",
    "plt.title('Logistic Regression Feature Importances')\n",
    "plt.xticks(rotation=45)\n",
    "plt.show()"
   ]
  },
  {
   "cell_type": "markdown",
   "metadata": {},
   "source": [
    "**Analysis**<br>\n",
    "1. **const (Constant):** The intercept term in the logistic regression model.\n",
    "\n",
    "2. **backers:** For every one-unit increase in the \"backers\" variable, the log-odds of the event (e.g., success) occurring increases by approximately 17.10 units, assuming all other variables remain constant. This suggests that an increase in the number of backers is associated with an increase in the odds of the event happening.\n",
    "\n",
    "3. **usd_pledged_real:** For every one-unit increase in the \"usd_pledged_real\" variable, the log-odds of the event occurring increases by approximately 83.01 units, holding all other variables constant. This indicates that a higher amount pledged in USD is associated with higher odds of the event happening.\n",
    "\n",
    "4. **usd_goal_real:** For every one-unit increase in the \"usd_goal_real\" variable, the log-odds of the event occurring decreases by approximately 755.78 units, assuming all other variables remain constant. This suggests that a higher funding goal in USD is associated with lower odds of the event happening.\n",
    "\n",
    "5. **duration:** For every one-unit increase in the \"duration\" variable, the log-odds of the event occurring decreases by approximately 0.007 units, while holding all other variables constant. This indicates a slight decrease in the odds of the event happening with a longer duration."
   ]
  },
  {
   "cell_type": "code",
   "execution_count": 43,
   "metadata": {},
   "outputs": [
    {
     "name": "stdout",
     "output_type": "stream",
     "text": [
      "P-values:\n",
      "const               0.000000\n",
      "backers             0.000000\n",
      "usd_pledged_real    0.000000\n",
      "usd_goal_real       0.000000\n",
      "duration            0.115213\n",
      "dtype: float64\n"
     ]
    }
   ],
   "source": [
    "# P-values\n",
    "p_values = result.pvalues\n",
    "print(\"P-values:\")\n",
    "print(p_values)"
   ]
  },
  {
   "cell_type": "markdown",
   "metadata": {},
   "source": [
    "**Analysis**<br> In summary, all the independent variables except \"duration\" appear to be highly statistically significant in predicting the outcome in this logistic regression model. \"Duration\" does not reach the traditional significance level, but its inclusion in the model may still be considered based on the specific objectives and context of the analysis."
   ]
  },
  {
   "cell_type": "markdown",
   "metadata": {},
   "source": [
    "## Decision Tree"
   ]
  },
  {
   "cell_type": "code",
   "execution_count": 44,
   "metadata": {},
   "outputs": [
    {
     "name": "stdout",
     "output_type": "stream",
     "text": [
      "Best hyperparameters: {'ccp_alpha': 0.0, 'max_depth': 3, 'min_samples_leaf': 1, 'min_samples_split': 10}\n",
      "Classification Report:\n",
      "              precision    recall  f1-score   support\n",
      "\n",
      "           0       0.98      0.87      0.92     72134\n",
      "           1       0.80      0.96      0.88     40324\n",
      "\n",
      "    accuracy                           0.90    112458\n",
      "   macro avg       0.89      0.92      0.90    112458\n",
      "weighted avg       0.92      0.90      0.90    112458\n",
      "\n"
     ]
    }
   ],
   "source": [
    "# Split the data\n",
    "X_train, X_test, y_train, y_test = train_test_split(X, y, test_size=0.3, random_state=100)\n",
    "\n",
    "# Define the hyperparameter grid for grid search\n",
    "param_grid = {\n",
    "    'max_depth': [1,2,3],             # Test different maximum depths\n",
    "    'min_samples_split': [10,20,30],\n",
    "    'min_samples_leaf': [1,2,5,10,20],\n",
    "    'ccp_alpha': [0.0, 0.01, 0.1, 0.2, 0.3, 0.4, 0.5]\n",
    "}\n",
    "\n",
    "# Create the Decision Tree model\n",
    "dt_model = DecisionTreeClassifier(random_state=100, class_weight='balanced')\n",
    "\n",
    "# Create the GridSearchCV object\n",
    "grid_search = GridSearchCV(dt_model, param_grid, cv=5, scoring='accuracy')\n",
    "\n",
    "# Fit the GridSearchCV on the training data\n",
    "grid_search.fit(X_train, y_train)\n",
    "\n",
    "# Get the best parameters from the grid search\n",
    "best_params = grid_search.best_params_\n",
    "print(\"Best hyperparameters:\", best_params)\n",
    "\n",
    "# Create the final pruned Decision Tree model with the best hyperparameters\n",
    "final_dt_model = DecisionTreeClassifier(\n",
    "    random_state=100,\n",
    "    class_weight='balanced',\n",
    "    max_depth=best_params['max_depth'],\n",
    "    min_samples_split=best_params['min_samples_split'],\n",
    "    min_samples_leaf=best_params['min_samples_leaf'],\n",
    "    ccp_alpha = best_params['ccp_alpha']\n",
    ")\n",
    "\n",
    "# Fit the final model on the training data\n",
    "final_dt_model.fit(X_train, y_train)\n",
    "\n",
    "# Make predictions on the test data using the final pruned model\n",
    "y_pred_dt = final_dt_model.predict(X_test)\n",
    "\n",
    "# Evaluate the final model\n",
    "print(\"Classification Report:\")\n",
    "print(classification_report(y_test, y_pred_dt))"
   ]
  },
  {
   "cell_type": "markdown",
   "metadata": {},
   "source": [
    "**The hyperparameters are the settings that were found to give the best performance for the Decision Tree model during the hyperparameter tuning process. The values given are:**\n",
    "ccp_alpha: 0.0, max_depth: 3, min_samples_leaf: 1, and min_samples_split: 10\n",
    "\n",
    "**Based on the results from Decision Tree Model, we can interpret the following:**\n",
    "\n",
    "* Accuracy: The overall accuracy of the model is approximately 90%, which means that it correctly predicts the target class for about 90% of the total instances in the dataset.\n",
    "\n",
    "* Precision: For class 0 (the first class), the precision is 0.98, indicating that 98% of the instances predicted as class 0 are actually true positives. For class 1 (the second class), the precision is 0.80, indicating that 80% of the instances predicted as class 1 are true positives.\n",
    "\n",
    "* Recall (Sensitivity or True Positive Rate): For class 0, the recall is 0.87, meaning that the model correctly identifies 87% of the instances of class 0. For class 1, the recall is 0.96, meaning that the model correctly identifies 96% of the instances of class 1.\n",
    "\n",
    "* F1-Score: For class 0, the F1-score is 0.92, and for class 1, the F1-score is 0.88.\n",
    "\n",
    "* Support: For class 0, there are 72,134 instances, and for class 1, there are 40,324 instances.\n",
    "\n",
    "* Macro Avg: The macro average precision, recall, and F1-score are all around 0.91.\n",
    "\n",
    "* Weighted Avg: The weighted average precision, recall, and F1-score are all approximately 0.91.\n",
    "\n",
    "Overall, the model seems to perform reasonably well with an accuracy of 90%. It has better precision for class 0 (negative class) but better recall for class 1 (positive class). The hyperparameters used for the model were found through tuning and appear to provide a good balance between complexity and performance."
   ]
  },
  {
   "cell_type": "code",
   "execution_count": null,
   "metadata": {},
   "outputs": [],
   "source": [
    "# Get feature importances from the final model\n",
    "importances = final_dt_model.feature_importances_\n",
    "print(\"Feature importances:\")\n",
    "for col, imp in zip(df3.columns, importances):\n",
    "    print(f\"{col}: {imp}\")\n",
    "    \n",
    "# Sample data for demonstration purposes\n",
    "df3_columns = ['backers', 'usd_pledged_real', 'usd_goal_real', 'duration']\n",
    "importances = [0.66, 0.24, 0.09, 0.0]\n",
    "\n",
    "# Create a bar plot\n",
    "plt.figure(figsize=(10, 6))\n",
    "plt.bar(df3_columns, importances, color='skyblue')\n",
    "plt.xlabel('Features')\n",
    "plt.ylabel('Importance')\n",
    "plt.title('Feature Importances')\n",
    "plt.xticks(rotation=45)\n",
    "plt.show()"
   ]
  },
  {
   "cell_type": "markdown",
   "metadata": {},
   "source": [
    "**Analysis**\n",
    "1. backers: 63.33% of the information in the tree comes from the backers variable, making it the most important feature. \n",
    "2. usd_pledged_real: 24.26% of the information in the tree comes from the usd_pledged_real, making it the second most important feature. \n",
    "3. usd_goal_real: 9.41% of the information in the tree comes from usd_goal_real, which is a significantly lower feature importance score compared to backers and usd_pledged_real. \n",
    "4. Duration: 0% of the information in the tree comes from duration, meaning that it doesn't contribute anything to predicting Kickstarter project failure."
   ]
  },
  {
   "cell_type": "markdown",
   "metadata": {},
   "source": [
    "## Label encoding"
   ]
  },
  {
   "cell_type": "code",
   "execution_count": 62,
   "metadata": {},
   "outputs": [],
   "source": [
    "# Drop live projects\n",
    "df3 = df2.query('state != \"live\"')\n",
    "\n",
    "# Remove corrupted data: when state = \"successful\" and backers = 0\n",
    "df3 = df3[~((df3['state'] == 'successful') & (df3['backers'] == 0))]\n",
    "\n",
    "cat_features = ['category', 'currency', \n",
    "                'country', 'launched_year_month',\n",
    "               'deadline_year_month']\n",
    "encoder = LabelEncoder()\n",
    "\n",
    "encoded = df3[cat_features].apply(encoder.fit_transform)\n",
    "\n",
    "df3 = df3[['backers','usd_pledged_real', 'usd_goal_real',\n",
    "        'target']].join(encoded)\n",
    "\n",
    "# Separate the numerical columns to be standardized\n",
    "num_cols = ['usd_goal_real', 'usd_pledged_real', 'backers', 'category', \n",
    "            'currency', 'country','launched_year_month', 'deadline_year_month']\n",
    "\n",
    "# Standardize the numerical columns\n",
    "scaler = StandardScaler()\n",
    "df3[num_cols] = scaler.fit_transform(df3[num_cols])\n",
    "\n",
    "# Apply log1p transformation to each numerical feature\n",
    "for col in num_cols:\n",
    "    df3[col] = df3[col].apply(lambda x: np.log1p(x) if x >= -1 else x)"
   ]
  },
  {
   "cell_type": "markdown",
   "metadata": {},
   "source": [
    "## LightGBM (Light Gradient Boosting Machine)"
   ]
  },
  {
   "cell_type": "code",
   "execution_count": 58,
   "metadata": {},
   "outputs": [
    {
     "name": "stdout",
     "output_type": "stream",
     "text": [
      "Collecting lightgbm\n",
      "  Downloading lightgbm-4.0.0-py3-none-win_amd64.whl (1.3 MB)\n",
      "Requirement already satisfied: scipy in c:\\programdata\\anaconda3\\lib\\site-packages (from lightgbm) (1.5.0)\n",
      "Requirement already satisfied: numpy in c:\\programdata\\anaconda3\\lib\\site-packages (from lightgbm) (1.18.5)\n",
      "Installing collected packages: lightgbm\n",
      "Successfully installed lightgbm-4.0.0\n"
     ]
    }
   ],
   "source": [
    "!pip install lightgbm"
   ]
  },
  {
   "cell_type": "code",
   "execution_count": 69,
   "metadata": {},
   "outputs": [],
   "source": [
    "# Define target and features\n",
    "X = df3.drop(['target', 'usd_goal_real','deadline_year_month',\n",
    "            'currency', 'country', 'category'\n",
    "              ], axis=1)\n",
    "y = df3['target']\n",
    "\n",
    "# Split the data\n",
    "X_train, X_test, y_train, y_test = train_test_split(X, y, test_size=0.2, random_state=100)\n",
    "\n",
    "# Define the hyperparameter grid for grid search\n",
    "param_grid = {\n",
    "    'num_leaves': [16,32,64],\n",
    "    'objective': ['binary'],\n",
    "    'metric': ['auc'],\n",
    "}\n",
    "\n",
    "# Create the LightGBM model\n",
    "lgb_model = lgb.LGBMClassifier()\n",
    "\n",
    "# Create the GridSearchCV object\n",
    "grid_search = GridSearchCV(lgb_model, param_grid, cv=3, scoring='roc_auc')"
   ]
  },
  {
   "cell_type": "code",
   "execution_count": null,
   "metadata": {},
   "outputs": [],
   "source": []
  }
 ],
 "metadata": {
  "kernelspec": {
   "display_name": "Python 3",
   "language": "python",
   "name": "python3"
  },
  "language_info": {
   "codemirror_mode": {
    "name": "ipython",
    "version": 3
   },
   "file_extension": ".py",
   "mimetype": "text/x-python",
   "name": "python",
   "nbconvert_exporter": "python",
   "pygments_lexer": "ipython3",
   "version": "3.8.3"
  }
 },
 "nbformat": 4,
 "nbformat_minor": 4
}
